{
  "nbformat": 4,
  "nbformat_minor": 0,
  "metadata": {
    "colab": {
      "name": "KLASIFIKASI_FAISHAL&FADHIL-2.ipynb",
      "provenance": [],
      "collapsed_sections": [
        "QUnKMYBJ_Jd2",
        "Tte8htRIesQD"
      ],
      "toc_visible": true
    },
    "kernelspec": {
      "name": "python3",
      "display_name": "Python 3"
    },
    "language_info": {
      "name": "python"
    }
  },
  "cells": [
    {
      "cell_type": "code",
      "metadata": {
        "id": "28v1_QhQ76-s"
      },
      "source": [
        "import pandas as pd\n",
        "import numpy as np\n",
        "import matplotlib.pyplot as plt\n",
        "import seaborn as sns\n",
        "import math\n",
        "from sklearn.preprocessing import MinMaxScaler\n",
        "from tqdm import tqdm\n",
        "\n",
        "from sklearn.ensemble import RandomForestRegressor, RandomForestClassifier\n",
        "from sklearn.preprocessing import LabelEncoder, OneHotEncoder, MinMaxScaler\n",
        "\n",
        "import sklearn as sk\n",
        "from sklearn.linear_model import LogisticRegression\n",
        "from sklearn.utils import resample\n",
        "\n",
        "import warnings\n",
        "warnings.filterwarnings(\"ignore\")\n"
      ],
      "execution_count": 1,
      "outputs": []
    },
    {
      "cell_type": "markdown",
      "metadata": {
        "id": "QUnKMYBJ_Jd2"
      },
      "source": [
        "## READ DATA"
      ]
    },
    {
      "cell_type": "code",
      "metadata": {
        "id": "uIxTISyE8IhH"
      },
      "source": [
        "df_ts = pd.read_csv('salju_test.csv')\n",
        "df_tr = pd.read_csv('salju_train.csv')"
      ],
      "execution_count": 2,
      "outputs": []
    },
    {
      "cell_type": "code",
      "metadata": {
        "colab": {
          "base_uri": "https://localhost:8080/",
          "height": 0
        },
        "id": "iyAY7FyU8T1C",
        "outputId": "9127d31d-5429-47eb-92dc-6178a05c7b35"
      },
      "source": [
        "df_ts.head()"
      ],
      "execution_count": 3,
      "outputs": [
        {
          "output_type": "execute_result",
          "data": {
            "text/html": [
              "<div>\n",
              "<style scoped>\n",
              "    .dataframe tbody tr th:only-of-type {\n",
              "        vertical-align: middle;\n",
              "    }\n",
              "\n",
              "    .dataframe tbody tr th {\n",
              "        vertical-align: top;\n",
              "    }\n",
              "\n",
              "    .dataframe thead th {\n",
              "        text-align: right;\n",
              "    }\n",
              "</style>\n",
              "<table border=\"1\" class=\"dataframe\">\n",
              "  <thead>\n",
              "    <tr style=\"text-align: right;\">\n",
              "      <th></th>\n",
              "      <th>Tanggal</th>\n",
              "      <th>KodeLokasi</th>\n",
              "      <th>SuhuMin</th>\n",
              "      <th>SuhuMax</th>\n",
              "      <th>Hujan</th>\n",
              "      <th>Penguapan</th>\n",
              "      <th>SinarMatahari</th>\n",
              "      <th>ArahAnginTerkencang</th>\n",
              "      <th>KecepatanAnginTerkencang</th>\n",
              "      <th>ArahAngin9am</th>\n",
              "      <th>ArahAngin3pm</th>\n",
              "      <th>KecepatanAngin9am</th>\n",
              "      <th>KecepatanAngin3pm</th>\n",
              "      <th>Kelembaban9am</th>\n",
              "      <th>Kelembaban3pm</th>\n",
              "      <th>Tekanan9am</th>\n",
              "      <th>Tekanan3pm</th>\n",
              "      <th>Awan9am</th>\n",
              "      <th>Awan3pm</th>\n",
              "      <th>Suhu9am</th>\n",
              "      <th>Suhu3pm</th>\n",
              "      <th>BersaljuHariIni</th>\n",
              "      <th>BersaljuBesok</th>\n",
              "    </tr>\n",
              "  </thead>\n",
              "  <tbody>\n",
              "    <tr>\n",
              "      <th>0</th>\n",
              "      <td>04/11/2010</td>\n",
              "      <td>C39</td>\n",
              "      <td>11.0</td>\n",
              "      <td>27.5</td>\n",
              "      <td>0.0</td>\n",
              "      <td>NaN</td>\n",
              "      <td>6.4</td>\n",
              "      <td>WSW</td>\n",
              "      <td>46.0</td>\n",
              "      <td>W</td>\n",
              "      <td>W</td>\n",
              "      <td>20.0</td>\n",
              "      <td>28.0</td>\n",
              "      <td>39.0</td>\n",
              "      <td>56.0</td>\n",
              "      <td>1013.0</td>\n",
              "      <td>1012.4</td>\n",
              "      <td>4.0</td>\n",
              "      <td>7.0</td>\n",
              "      <td>25.7</td>\n",
              "      <td>23.6</td>\n",
              "      <td>No</td>\n",
              "      <td>No</td>\n",
              "    </tr>\n",
              "    <tr>\n",
              "      <th>1</th>\n",
              "      <td>26/03/2015</td>\n",
              "      <td>C35</td>\n",
              "      <td>10.0</td>\n",
              "      <td>19.9</td>\n",
              "      <td>0.2</td>\n",
              "      <td>NaN</td>\n",
              "      <td>NaN</td>\n",
              "      <td>WNW</td>\n",
              "      <td>56.0</td>\n",
              "      <td>W</td>\n",
              "      <td>NW</td>\n",
              "      <td>24.0</td>\n",
              "      <td>33.0</td>\n",
              "      <td>76.0</td>\n",
              "      <td>32.0</td>\n",
              "      <td>1017.0</td>\n",
              "      <td>1015.2</td>\n",
              "      <td>8.0</td>\n",
              "      <td>1.0</td>\n",
              "      <td>10.7</td>\n",
              "      <td>18.9</td>\n",
              "      <td>No</td>\n",
              "      <td>Yes</td>\n",
              "    </tr>\n",
              "    <tr>\n",
              "      <th>2</th>\n",
              "      <td>22/03/2016</td>\n",
              "      <td>C18</td>\n",
              "      <td>9.2</td>\n",
              "      <td>27.2</td>\n",
              "      <td>0.0</td>\n",
              "      <td>5.2</td>\n",
              "      <td>10.4</td>\n",
              "      <td>SSW</td>\n",
              "      <td>33.0</td>\n",
              "      <td>NE</td>\n",
              "      <td>N</td>\n",
              "      <td>13.0</td>\n",
              "      <td>19.0</td>\n",
              "      <td>89.0</td>\n",
              "      <td>27.0</td>\n",
              "      <td>1018.6</td>\n",
              "      <td>1015.7</td>\n",
              "      <td>0.0</td>\n",
              "      <td>1.0</td>\n",
              "      <td>13.9</td>\n",
              "      <td>26.3</td>\n",
              "      <td>No</td>\n",
              "      <td>No</td>\n",
              "    </tr>\n",
              "    <tr>\n",
              "      <th>3</th>\n",
              "      <td>09/12/2011</td>\n",
              "      <td>C31</td>\n",
              "      <td>17.7</td>\n",
              "      <td>27.0</td>\n",
              "      <td>0.0</td>\n",
              "      <td>4.6</td>\n",
              "      <td>6.7</td>\n",
              "      <td>SW</td>\n",
              "      <td>35.0</td>\n",
              "      <td>E</td>\n",
              "      <td>SSE</td>\n",
              "      <td>20.0</td>\n",
              "      <td>15.0</td>\n",
              "      <td>55.0</td>\n",
              "      <td>41.0</td>\n",
              "      <td>1010.2</td>\n",
              "      <td>1008.6</td>\n",
              "      <td>7.0</td>\n",
              "      <td>6.0</td>\n",
              "      <td>22.3</td>\n",
              "      <td>26.4</td>\n",
              "      <td>No</td>\n",
              "      <td>No</td>\n",
              "    </tr>\n",
              "    <tr>\n",
              "      <th>4</th>\n",
              "      <td>20/05/2017</td>\n",
              "      <td>C14</td>\n",
              "      <td>2.3</td>\n",
              "      <td>7.9</td>\n",
              "      <td>88.0</td>\n",
              "      <td>NaN</td>\n",
              "      <td>NaN</td>\n",
              "      <td>NW</td>\n",
              "      <td>46.0</td>\n",
              "      <td>W</td>\n",
              "      <td>WNW</td>\n",
              "      <td>13.0</td>\n",
              "      <td>9.0</td>\n",
              "      <td>98.0</td>\n",
              "      <td>95.0</td>\n",
              "      <td>NaN</td>\n",
              "      <td>NaN</td>\n",
              "      <td>NaN</td>\n",
              "      <td>NaN</td>\n",
              "      <td>4.4</td>\n",
              "      <td>6.0</td>\n",
              "      <td>Yes</td>\n",
              "      <td>No</td>\n",
              "    </tr>\n",
              "  </tbody>\n",
              "</table>\n",
              "</div>"
            ],
            "text/plain": [
              "      Tanggal KodeLokasi  SuhuMin  ...  Suhu3pm  BersaljuHariIni  BersaljuBesok\n",
              "0  04/11/2010        C39     11.0  ...     23.6               No             No\n",
              "1  26/03/2015        C35     10.0  ...     18.9               No            Yes\n",
              "2  22/03/2016        C18      9.2  ...     26.3               No             No\n",
              "3  09/12/2011        C31     17.7  ...     26.4               No             No\n",
              "4  20/05/2017        C14      2.3  ...      6.0              Yes             No\n",
              "\n",
              "[5 rows x 23 columns]"
            ]
          },
          "metadata": {
            "tags": []
          },
          "execution_count": 3
        }
      ]
    },
    {
      "cell_type": "code",
      "metadata": {
        "colab": {
          "base_uri": "https://localhost:8080/",
          "height": 0
        },
        "id": "BnDg8aR-8VEg",
        "outputId": "346b7cb3-de80-44cd-c3b8-ec115daea698"
      },
      "source": [
        "df_tr.head()"
      ],
      "execution_count": 4,
      "outputs": [
        {
          "output_type": "execute_result",
          "data": {
            "text/html": [
              "<div>\n",
              "<style scoped>\n",
              "    .dataframe tbody tr th:only-of-type {\n",
              "        vertical-align: middle;\n",
              "    }\n",
              "\n",
              "    .dataframe tbody tr th {\n",
              "        vertical-align: top;\n",
              "    }\n",
              "\n",
              "    .dataframe thead th {\n",
              "        text-align: right;\n",
              "    }\n",
              "</style>\n",
              "<table border=\"1\" class=\"dataframe\">\n",
              "  <thead>\n",
              "    <tr style=\"text-align: right;\">\n",
              "      <th></th>\n",
              "      <th>id</th>\n",
              "      <th>Tanggal</th>\n",
              "      <th>KodeLokasi</th>\n",
              "      <th>SuhuMin</th>\n",
              "      <th>SuhuMax</th>\n",
              "      <th>Hujan</th>\n",
              "      <th>Penguapan</th>\n",
              "      <th>SinarMatahari</th>\n",
              "      <th>ArahAnginTerkencang</th>\n",
              "      <th>KecepatanAnginTerkencang</th>\n",
              "      <th>ArahAngin9am</th>\n",
              "      <th>ArahAngin3pm</th>\n",
              "      <th>KecepatanAngin9am</th>\n",
              "      <th>KecepatanAngin3pm</th>\n",
              "      <th>Kelembaban9am</th>\n",
              "      <th>Kelembaban3pm</th>\n",
              "      <th>Tekanan9am</th>\n",
              "      <th>Tekanan3pm</th>\n",
              "      <th>Awan9am</th>\n",
              "      <th>Awan3pm</th>\n",
              "      <th>Suhu9am</th>\n",
              "      <th>Suhu3pm</th>\n",
              "      <th>BersaljuHariIni</th>\n",
              "      <th>BersaljuBesok</th>\n",
              "    </tr>\n",
              "  </thead>\n",
              "  <tbody>\n",
              "    <tr>\n",
              "      <th>0</th>\n",
              "      <td>1</td>\n",
              "      <td>01/06/2014</td>\n",
              "      <td>C4</td>\n",
              "      <td>10.4</td>\n",
              "      <td>15.5</td>\n",
              "      <td>4.8</td>\n",
              "      <td>NaN</td>\n",
              "      <td>NaN</td>\n",
              "      <td>WSW</td>\n",
              "      <td>24.0</td>\n",
              "      <td>NaN</td>\n",
              "      <td>WSW</td>\n",
              "      <td>0.0</td>\n",
              "      <td>13.0</td>\n",
              "      <td>78.0</td>\n",
              "      <td>76.0</td>\n",
              "      <td>1020.1</td>\n",
              "      <td>1018.5</td>\n",
              "      <td>NaN</td>\n",
              "      <td>NaN</td>\n",
              "      <td>13.1</td>\n",
              "      <td>15.0</td>\n",
              "      <td>Ya</td>\n",
              "      <td>Tidak</td>\n",
              "    </tr>\n",
              "    <tr>\n",
              "      <th>1</th>\n",
              "      <td>2</td>\n",
              "      <td>15/07/2014</td>\n",
              "      <td>C10</td>\n",
              "      <td>9.0</td>\n",
              "      <td>17.0</td>\n",
              "      <td>8.0</td>\n",
              "      <td>2.6</td>\n",
              "      <td>7.4</td>\n",
              "      <td>NaN</td>\n",
              "      <td>NaN</td>\n",
              "      <td>SW</td>\n",
              "      <td>WNW</td>\n",
              "      <td>13.0</td>\n",
              "      <td>20.0</td>\n",
              "      <td>80.0</td>\n",
              "      <td>61.0</td>\n",
              "      <td>1015.2</td>\n",
              "      <td>1014.6</td>\n",
              "      <td>7.0</td>\n",
              "      <td>5.0</td>\n",
              "      <td>11.9</td>\n",
              "      <td>15.5</td>\n",
              "      <td>Ya</td>\n",
              "      <td>Ya</td>\n",
              "    </tr>\n",
              "    <tr>\n",
              "      <th>2</th>\n",
              "      <td>3</td>\n",
              "      <td>16/02/2011</td>\n",
              "      <td>C46</td>\n",
              "      <td>18.2</td>\n",
              "      <td>32.0</td>\n",
              "      <td>0.0</td>\n",
              "      <td>NaN</td>\n",
              "      <td>NaN</td>\n",
              "      <td>ESE</td>\n",
              "      <td>44.0</td>\n",
              "      <td>SE</td>\n",
              "      <td>SE</td>\n",
              "      <td>15.0</td>\n",
              "      <td>26.0</td>\n",
              "      <td>62.0</td>\n",
              "      <td>42.0</td>\n",
              "      <td>NaN</td>\n",
              "      <td>NaN</td>\n",
              "      <td>NaN</td>\n",
              "      <td>NaN</td>\n",
              "      <td>23.8</td>\n",
              "      <td>29.6</td>\n",
              "      <td>Tidak</td>\n",
              "      <td>Tidak</td>\n",
              "    </tr>\n",
              "    <tr>\n",
              "      <th>3</th>\n",
              "      <td>4</td>\n",
              "      <td>08/08/2012</td>\n",
              "      <td>C36</td>\n",
              "      <td>7.3</td>\n",
              "      <td>24.5</td>\n",
              "      <td>0.0</td>\n",
              "      <td>8.4</td>\n",
              "      <td>10.4</td>\n",
              "      <td>SSW</td>\n",
              "      <td>54.0</td>\n",
              "      <td>N</td>\n",
              "      <td>SW</td>\n",
              "      <td>13.0</td>\n",
              "      <td>19.0</td>\n",
              "      <td>25.0</td>\n",
              "      <td>17.0</td>\n",
              "      <td>1019.2</td>\n",
              "      <td>1016.9</td>\n",
              "      <td>1.0</td>\n",
              "      <td>7.0</td>\n",
              "      <td>15.3</td>\n",
              "      <td>23.2</td>\n",
              "      <td>Tidak</td>\n",
              "      <td>Tidak</td>\n",
              "    </tr>\n",
              "    <tr>\n",
              "      <th>4</th>\n",
              "      <td>5</td>\n",
              "      <td>29/10/2016</td>\n",
              "      <td>C7</td>\n",
              "      <td>5.9</td>\n",
              "      <td>20.3</td>\n",
              "      <td>0.0</td>\n",
              "      <td>3.6</td>\n",
              "      <td>12.6</td>\n",
              "      <td>N</td>\n",
              "      <td>37.0</td>\n",
              "      <td>NNW</td>\n",
              "      <td>ESE</td>\n",
              "      <td>22.0</td>\n",
              "      <td>19.0</td>\n",
              "      <td>55.0</td>\n",
              "      <td>48.0</td>\n",
              "      <td>1019.7</td>\n",
              "      <td>1014.7</td>\n",
              "      <td>2.0</td>\n",
              "      <td>6.0</td>\n",
              "      <td>12.4</td>\n",
              "      <td>18.1</td>\n",
              "      <td>Tidak</td>\n",
              "      <td>Tidak</td>\n",
              "    </tr>\n",
              "  </tbody>\n",
              "</table>\n",
              "</div>"
            ],
            "text/plain": [
              "   id     Tanggal KodeLokasi  ...  Suhu3pm  BersaljuHariIni  BersaljuBesok\n",
              "0   1  01/06/2014         C4  ...     15.0               Ya          Tidak\n",
              "1   2  15/07/2014        C10  ...     15.5               Ya             Ya\n",
              "2   3  16/02/2011        C46  ...     29.6            Tidak          Tidak\n",
              "3   4  08/08/2012        C36  ...     23.2            Tidak          Tidak\n",
              "4   5  29/10/2016         C7  ...     18.1            Tidak          Tidak\n",
              "\n",
              "[5 rows x 24 columns]"
            ]
          },
          "metadata": {
            "tags": []
          },
          "execution_count": 4
        }
      ]
    },
    {
      "cell_type": "code",
      "metadata": {
        "id": "twbg7VzqHPNo"
      },
      "source": [
        "df_tr.drop(columns='id', inplace=True)"
      ],
      "execution_count": 5,
      "outputs": []
    },
    {
      "cell_type": "markdown",
      "metadata": {
        "id": "Tte8htRIesQD"
      },
      "source": [
        "## EKSPLORASI DATA"
      ]
    },
    {
      "cell_type": "markdown",
      "metadata": {
        "id": "ZGhLVjBnhnPC"
      },
      "source": [
        "Eksplorasi Data Train (Untuk Missing Value, Outliers dan Label Imbalance"
      ]
    },
    {
      "cell_type": "code",
      "metadata": {
        "colab": {
          "base_uri": "https://localhost:8080/"
        },
        "id": "xCBVg9J3fJss",
        "outputId": "b1eda10b-61ee-46dd-9fde-ba1356504e72"
      },
      "source": [
        "df_tr.info()"
      ],
      "execution_count": 6,
      "outputs": [
        {
          "output_type": "stream",
          "text": [
            "<class 'pandas.core.frame.DataFrame'>\n",
            "RangeIndex: 109095 entries, 0 to 109094\n",
            "Data columns (total 23 columns):\n",
            " #   Column                    Non-Null Count   Dtype  \n",
            "---  ------                    --------------   -----  \n",
            " 0   Tanggal                   109095 non-null  object \n",
            " 1   KodeLokasi                109095 non-null  object \n",
            " 2   SuhuMin                   107973 non-null  float64\n",
            " 3   SuhuMax                   108166 non-null  float64\n",
            " 4   Hujan                     106664 non-null  float64\n",
            " 5   Penguapan                 62071 non-null   float64\n",
            " 6   SinarMatahari             56716 non-null   float64\n",
            " 7   ArahAnginTerkencang       101351 non-null  object \n",
            " 8   KecepatanAnginTerkencang  101399 non-null  float64\n",
            " 9   ArahAngin9am              101172 non-null  object \n",
            " 10  ArahAngin3pm              105898 non-null  object \n",
            " 11  KecepatanAngin9am         107742 non-null  float64\n",
            " 12  KecepatanAngin3pm         106792 non-null  float64\n",
            " 13  Kelembaban9am             107093 non-null  float64\n",
            " 14  Kelembaban3pm             105721 non-null  float64\n",
            " 15  Tekanan9am                97768 non-null   float64\n",
            " 16  Tekanan3pm                97787 non-null   float64\n",
            " 17  Awan9am                   67251 non-null   float64\n",
            " 18  Awan3pm                   64624 non-null   float64\n",
            " 19  Suhu9am                   107755 non-null  float64\n",
            " 20  Suhu3pm                   106397 non-null  float64\n",
            " 21  BersaljuHariIni           106664 non-null  object \n",
            " 22  BersaljuBesok             106664 non-null  object \n",
            "dtypes: float64(16), object(7)\n",
            "memory usage: 19.1+ MB\n"
          ],
          "name": "stdout"
        }
      ]
    },
    {
      "cell_type": "code",
      "metadata": {
        "colab": {
          "base_uri": "https://localhost:8080/",
          "height": 0
        },
        "id": "hFNgA6EviDZv",
        "outputId": "fff11b73-549b-4087-8435-2da6cc1e93d6"
      },
      "source": [
        "plt.figure(figsize=(14,10))\n",
        "sns.heatmap(df_tr.corr(),\n",
        "            cmap='coolwarm',\n",
        "            annot=True,linewidths=1,\n",
        "            fmt='.0g');"
      ],
      "execution_count": 7,
      "outputs": [
        {
          "output_type": "display_data",
          "data": {
            "image/png": "[encoded data removed]",
            "text/plain": [
              "<Figure size 1008x720 with 2 Axes>"
            ]
          },
          "metadata": {
            "tags": [],
            "needs_background": "light"
          }
        }
      ]
    },
    {
      "cell_type": "code",
      "metadata": {
        "colab": {
          "base_uri": "https://localhost:8080/",
          "height": 0
        },
        "id": "ESddBTFjkKwu",
        "outputId": "4838e206-53ad-4960-bb5a-18dd8084e8f9"
      },
      "source": [
        "fig = plt.figure(figsize = (8,5))\n",
        "df_tr['BersaljuBesok'].value_counts(normalize = True).plot(kind='bar', color= ['skyblue','navy'], alpha = 0.9, rot=0)\n",
        "plt.title('BersaljuBesok Indicator Tidak and Ya in the Imbalanced Dataset')\n",
        "plt.show()"
      ],
      "execution_count": 8,
      "outputs": [
        {
          "output_type": "display_data",
          "data": {
            "image/png": "[encoded data removed]",
            "text/plain": [
              "<Figure size 576x360 with 1 Axes>"
            ]
          },
          "metadata": {
            "tags": [],
            "needs_background": "light"
          }
        }
      ]
    },
    {
      "cell_type": "markdown",
      "metadata": {
        "id": "iBK_TUPX8mER"
      },
      "source": [
        "## PREPROCESSING DATA TRAIN dan TEST"
      ]
    },
    {
      "cell_type": "markdown",
      "metadata": {
        "id": "qDHtPjPCnEjN"
      },
      "source": [
        "Handle Imbalanced Dataset (Data Train & Data Test)"
      ]
    },
    {
      "cell_type": "code",
      "metadata": {
        "colab": {
          "base_uri": "https://localhost:8080/",
          "height": 336
        },
        "id": "AgzQbh4qnD5V",
        "outputId": "c91a3e2e-14be-4292-bc0f-dc0f3203545a"
      },
      "source": [
        "#DATA TRAIN\n",
        "no = df_tr[df_tr['BersaljuBesok'] == 'Tidak']\n",
        "yes = df_tr[df_tr['BersaljuBesok'] == 'Ya']\n",
        "yes_oversampled = resample(yes, replace=True, n_samples=len(no), random_state=123)\n",
        "oversampled = pd.concat([no, yes_oversampled])\n",
        "\n",
        "fig = plt.figure(figsize = (8,5))\n",
        "oversampled['BersaljuBesok'].value_counts(normalize = True).plot(kind='bar', color= ['skyblue','navy'], alpha = 0.9, rot=0)\n",
        "plt.title('BersaljuBesok Indicator Tidak and Ya after Oversampling (Balanced Dataset)')\n",
        "plt.show()"
      ],
      "execution_count": 9,
      "outputs": [
        {
          "output_type": "display_data",
          "data": {
            "image/png": "[encoded data removed]",
            "text/plain": [
              "<Figure size 576x360 with 1 Axes>"
            ]
          },
          "metadata": {
            "tags": [],
            "needs_background": "light"
          }
        }
      ]
    },
    {
      "cell_type": "code",
      "metadata": {
        "id": "lWh-FVgfsT2X"
      },
      "source": [
        "#Oversampled to DATA TRAIN\n",
        "df_tr = oversampled"
      ],
      "execution_count": 10,
      "outputs": []
    },
    {
      "cell_type": "markdown",
      "metadata": {
        "id": "dk0_YPGWmp7C"
      },
      "source": [
        "Handle Missing Value (Data Test dan Data Train)"
      ]
    },
    {
      "cell_type": "code",
      "metadata": {
        "colab": {
          "base_uri": "https://localhost:8080/"
        },
        "id": "CETYwZEurguD",
        "outputId": "352006e3-daa9-479a-bbd0-7d9ab4dca0cb"
      },
      "source": [
        "df_tr.info()"
      ],
      "execution_count": 11,
      "outputs": [
        {
          "output_type": "stream",
          "text": [
            "<class 'pandas.core.frame.DataFrame'>\n",
            "Int64Index: 165402 entries, 0 to 49506\n",
            "Data columns (total 23 columns):\n",
            " #   Column                    Non-Null Count   Dtype  \n",
            "---  ------                    --------------   -----  \n",
            " 0   Tanggal                   165402 non-null  object \n",
            " 1   KodeLokasi                165402 non-null  object \n",
            " 2   SuhuMin                   164615 non-null  float64\n",
            " 3   SuhuMax                   165044 non-null  float64\n",
            " 4   Hujan                     163143 non-null  float64\n",
            " 5   Penguapan                 94476 non-null   float64\n",
            " 6   SinarMatahari             87227 non-null   float64\n",
            " 7   ArahAnginTerkencang       153861 non-null  object \n",
            " 8   KecepatanAnginTerkencang  153955 non-null  float64\n",
            " 9   ArahAngin9am              154437 non-null  object \n",
            " 10  ArahAngin3pm              160657 non-null  object \n",
            " 11  KecepatanAngin9am         163799 non-null  float64\n",
            " 12  KecepatanAngin3pm         162254 non-null  float64\n",
            " 13  Kelembaban9am             163103 non-null  float64\n",
            " 14  Kelembaban3pm             160911 non-null  float64\n",
            " 15  Tekanan9am                149094 non-null  float64\n",
            " 16  Tekanan3pm                149063 non-null  float64\n",
            " 17  Awan9am                   104796 non-null  float64\n",
            " 18  Awan3pm                   101576 non-null  float64\n",
            " 19  Suhu9am                   164213 non-null  float64\n",
            " 20  Suhu3pm                   162032 non-null  float64\n",
            " 21  BersaljuHariIni           163143 non-null  object \n",
            " 22  BersaljuBesok             165402 non-null  object \n",
            "dtypes: float64(16), object(7)\n",
            "memory usage: 30.3+ MB\n"
          ],
          "name": "stdout"
        }
      ]
    },
    {
      "cell_type": "code",
      "metadata": {
        "id": "kIlvfTkG_08L"
      },
      "source": [
        "# Insert nilai null menjadi nilai mean dari setiap kolom\n",
        "df_tr.fillna(df_tr.mean(), inplace=True)\n",
        "\n",
        "df_ts.fillna(df_ts.mean(), inplace=True)"
      ],
      "execution_count": 12,
      "outputs": []
    },
    {
      "cell_type": "markdown",
      "metadata": {
        "id": "tlKB2LlW0Llh"
      },
      "source": [
        "Mengubah Data BersaljuHariIni dan BersaljuBesok menjadi data Numerikal (Data Train dan Data Test)"
      ]
    },
    {
      "cell_type": "code",
      "metadata": {
        "id": "69P24vhG0JMb"
      },
      "source": [
        "#DATA TRAIN\n",
        "df_tr['BersaljuHariIni'].replace({'Tidak': 0, 'Ya': 1},inplace = True)\n",
        "df_tr['BersaljuBesok'].replace({'Tidak': 0, 'Ya': 1},inplace = True)\n",
        "\n",
        "#DATA TEST\n",
        "df_ts['BersaljuHariIni'].replace({'No': 0, 'Yes': 1},inplace = True)\n",
        "df_ts['BersaljuBesok'].replace({'No': 0, 'Yes': 1},inplace = True)"
      ],
      "execution_count": 13,
      "outputs": []
    },
    {
      "cell_type": "markdown",
      "metadata": {
        "id": "HdRhdmkYQrKH"
      },
      "source": [
        "Handle Missing Value for Data Categorical (Data Test dan Data Train)"
      ]
    },
    {
      "cell_type": "code",
      "metadata": {
        "id": "x5N-GLidvOv4"
      },
      "source": [
        "# Impute categorical var with Mode\n",
        "#DATA TRAIN\n",
        "df_tr['ArahAnginTerkencang'] = df_tr['ArahAnginTerkencang'].fillna(df_tr['ArahAnginTerkencang'].mode()[0])\n",
        "df_tr['ArahAngin9am'] = df_tr['ArahAngin9am'].fillna(df_tr['ArahAngin9am'].mode()[0])\n",
        "df_tr['ArahAngin3pm'] = df_tr['ArahAngin3pm'].fillna(df_tr['ArahAngin3pm'].mode()[0])\n",
        "df_tr['BersaljuHariIni'] = df_tr['BersaljuHariIni'].fillna(df_tr['BersaljuHariIni'].mode()[0])\n",
        "\n",
        "\n",
        "#DATA TEST\n",
        "df_ts['ArahAnginTerkencang'] = df_ts['ArahAnginTerkencang'].fillna(df_ts['ArahAnginTerkencang'].mode()[0])\n",
        "df_ts['ArahAngin9am'] = df_ts['ArahAngin9am'].fillna(df_ts['ArahAngin9am'].mode()[0])\n",
        "df_ts['ArahAngin3pm'] = df_ts['ArahAngin3pm'].fillna(df_ts['ArahAngin3pm'].mode()[0])\n",
        "df_ts['BersaljuHariIni'] = df_ts['BersaljuHariIni'].fillna(df_ts['BersaljuHariIni'].mode()[0])"
      ],
      "execution_count": 14,
      "outputs": []
    },
    {
      "cell_type": "code",
      "metadata": {
        "colab": {
          "base_uri": "https://localhost:8080/",
          "height": 211
        },
        "id": "xu1MYjEHycNz",
        "outputId": "dd84633f-dc12-41f5-b9dc-36e68a273887"
      },
      "source": [
        "df_tr.head()"
      ],
      "execution_count": 15,
      "outputs": [
        {
          "output_type": "execute_result",
          "data": {
            "text/html": [
              "<div>\n",
              "<style scoped>\n",
              "    .dataframe tbody tr th:only-of-type {\n",
              "        vertical-align: middle;\n",
              "    }\n",
              "\n",
              "    .dataframe tbody tr th {\n",
              "        vertical-align: top;\n",
              "    }\n",
              "\n",
              "    .dataframe thead th {\n",
              "        text-align: right;\n",
              "    }\n",
              "</style>\n",
              "<table border=\"1\" class=\"dataframe\">\n",
              "  <thead>\n",
              "    <tr style=\"text-align: right;\">\n",
              "      <th></th>\n",
              "      <th>Tanggal</th>\n",
              "      <th>KodeLokasi</th>\n",
              "      <th>SuhuMin</th>\n",
              "      <th>SuhuMax</th>\n",
              "      <th>Hujan</th>\n",
              "      <th>Penguapan</th>\n",
              "      <th>SinarMatahari</th>\n",
              "      <th>ArahAnginTerkencang</th>\n",
              "      <th>KecepatanAnginTerkencang</th>\n",
              "      <th>ArahAngin9am</th>\n",
              "      <th>ArahAngin3pm</th>\n",
              "      <th>KecepatanAngin9am</th>\n",
              "      <th>KecepatanAngin3pm</th>\n",
              "      <th>Kelembaban9am</th>\n",
              "      <th>Kelembaban3pm</th>\n",
              "      <th>Tekanan9am</th>\n",
              "      <th>Tekanan3pm</th>\n",
              "      <th>Awan9am</th>\n",
              "      <th>Awan3pm</th>\n",
              "      <th>Suhu9am</th>\n",
              "      <th>Suhu3pm</th>\n",
              "      <th>BersaljuHariIni</th>\n",
              "      <th>BersaljuBesok</th>\n",
              "    </tr>\n",
              "  </thead>\n",
              "  <tbody>\n",
              "    <tr>\n",
              "      <th>0</th>\n",
              "      <td>01/06/2014</td>\n",
              "      <td>C4</td>\n",
              "      <td>10.4</td>\n",
              "      <td>15.5</td>\n",
              "      <td>4.8</td>\n",
              "      <td>5.12954</td>\n",
              "      <td>6.485839</td>\n",
              "      <td>WSW</td>\n",
              "      <td>24.0</td>\n",
              "      <td>N</td>\n",
              "      <td>WSW</td>\n",
              "      <td>0.0</td>\n",
              "      <td>13.0</td>\n",
              "      <td>78.0</td>\n",
              "      <td>76.0</td>\n",
              "      <td>1020.100000</td>\n",
              "      <td>1018.500000</td>\n",
              "      <td>5.048074</td>\n",
              "      <td>5.186954</td>\n",
              "      <td>13.1</td>\n",
              "      <td>15.0</td>\n",
              "      <td>1.0</td>\n",
              "      <td>0</td>\n",
              "    </tr>\n",
              "    <tr>\n",
              "      <th>2</th>\n",
              "      <td>16/02/2011</td>\n",
              "      <td>C46</td>\n",
              "      <td>18.2</td>\n",
              "      <td>32.0</td>\n",
              "      <td>0.0</td>\n",
              "      <td>5.12954</td>\n",
              "      <td>6.485839</td>\n",
              "      <td>ESE</td>\n",
              "      <td>44.0</td>\n",
              "      <td>SE</td>\n",
              "      <td>SE</td>\n",
              "      <td>15.0</td>\n",
              "      <td>26.0</td>\n",
              "      <td>62.0</td>\n",
              "      <td>42.0</td>\n",
              "      <td>1016.497719</td>\n",
              "      <td>1014.210534</td>\n",
              "      <td>5.048074</td>\n",
              "      <td>5.186954</td>\n",
              "      <td>23.8</td>\n",
              "      <td>29.6</td>\n",
              "      <td>0.0</td>\n",
              "      <td>0</td>\n",
              "    </tr>\n",
              "    <tr>\n",
              "      <th>3</th>\n",
              "      <td>08/08/2012</td>\n",
              "      <td>C36</td>\n",
              "      <td>7.3</td>\n",
              "      <td>24.5</td>\n",
              "      <td>0.0</td>\n",
              "      <td>8.40000</td>\n",
              "      <td>10.400000</td>\n",
              "      <td>SSW</td>\n",
              "      <td>54.0</td>\n",
              "      <td>N</td>\n",
              "      <td>SW</td>\n",
              "      <td>13.0</td>\n",
              "      <td>19.0</td>\n",
              "      <td>25.0</td>\n",
              "      <td>17.0</td>\n",
              "      <td>1019.200000</td>\n",
              "      <td>1016.900000</td>\n",
              "      <td>1.000000</td>\n",
              "      <td>7.000000</td>\n",
              "      <td>15.3</td>\n",
              "      <td>23.2</td>\n",
              "      <td>0.0</td>\n",
              "      <td>0</td>\n",
              "    </tr>\n",
              "    <tr>\n",
              "      <th>4</th>\n",
              "      <td>29/10/2016</td>\n",
              "      <td>C7</td>\n",
              "      <td>5.9</td>\n",
              "      <td>20.3</td>\n",
              "      <td>0.0</td>\n",
              "      <td>3.60000</td>\n",
              "      <td>12.600000</td>\n",
              "      <td>N</td>\n",
              "      <td>37.0</td>\n",
              "      <td>NNW</td>\n",
              "      <td>ESE</td>\n",
              "      <td>22.0</td>\n",
              "      <td>19.0</td>\n",
              "      <td>55.0</td>\n",
              "      <td>48.0</td>\n",
              "      <td>1019.700000</td>\n",
              "      <td>1014.700000</td>\n",
              "      <td>2.000000</td>\n",
              "      <td>6.000000</td>\n",
              "      <td>12.4</td>\n",
              "      <td>18.1</td>\n",
              "      <td>0.0</td>\n",
              "      <td>0</td>\n",
              "    </tr>\n",
              "    <tr>\n",
              "      <th>5</th>\n",
              "      <td>12/06/2011</td>\n",
              "      <td>C12</td>\n",
              "      <td>14.4</td>\n",
              "      <td>21.8</td>\n",
              "      <td>0.0</td>\n",
              "      <td>3.20000</td>\n",
              "      <td>4.400000</td>\n",
              "      <td>SW</td>\n",
              "      <td>39.0</td>\n",
              "      <td>SW</td>\n",
              "      <td>SSW</td>\n",
              "      <td>19.0</td>\n",
              "      <td>20.0</td>\n",
              "      <td>63.0</td>\n",
              "      <td>52.0</td>\n",
              "      <td>1016.100000</td>\n",
              "      <td>1012.500000</td>\n",
              "      <td>7.000000</td>\n",
              "      <td>7.000000</td>\n",
              "      <td>16.7</td>\n",
              "      <td>21.1</td>\n",
              "      <td>0.0</td>\n",
              "      <td>0</td>\n",
              "    </tr>\n",
              "  </tbody>\n",
              "</table>\n",
              "</div>"
            ],
            "text/plain": [
              "      Tanggal KodeLokasi  SuhuMin  ...  Suhu3pm  BersaljuHariIni  BersaljuBesok\n",
              "0  01/06/2014         C4     10.4  ...     15.0              1.0              0\n",
              "2  16/02/2011        C46     18.2  ...     29.6              0.0              0\n",
              "3  08/08/2012        C36      7.3  ...     23.2              0.0              0\n",
              "4  29/10/2016         C7      5.9  ...     18.1              0.0              0\n",
              "5  12/06/2011        C12     14.4  ...     21.1              0.0              0\n",
              "\n",
              "[5 rows x 23 columns]"
            ]
          },
          "metadata": {
            "tags": []
          },
          "execution_count": 15
        }
      ]
    },
    {
      "cell_type": "markdown",
      "metadata": {
        "id": "1eOxnOkwBM2s"
      },
      "source": [
        "Mengubah Data Categorical ke Data Numerik (Data Train dan Data Test)"
      ]
    },
    {
      "cell_type": "code",
      "metadata": {
        "id": "OeVR_9G5BSYU"
      },
      "source": [
        "le = LabelEncoder()\n",
        "\n",
        "#DATA TRAIN\n",
        "df_tr['KodeLokasi'] = le.fit_transform(df_tr['KodeLokasi'])\n",
        "df_tr['ArahAnginTerkencang'] = le.fit_transform(df_tr['ArahAnginTerkencang'])\n",
        "df_tr['ArahAngin9am'] = le.fit_transform(df_tr['ArahAngin9am'])\n",
        "df_tr['ArahAngin3pm'] = le.fit_transform(df_tr['ArahAngin3pm'])\n",
        "\n",
        "#DATA TEST\n",
        "df_ts['KodeLokasi'] = le.fit_transform(df_ts['KodeLokasi'])\n",
        "df_ts['ArahAnginTerkencang'] = le.fit_transform(df_ts['ArahAnginTerkencang'])\n",
        "df_ts['ArahAngin9am'] = le.fit_transform(df_ts['ArahAngin9am'])\n",
        "df_ts['ArahAngin3pm'] = le.fit_transform(df_ts['ArahAngin3pm'])"
      ],
      "execution_count": 16,
      "outputs": []
    },
    {
      "cell_type": "code",
      "metadata": {
        "colab": {
          "base_uri": "https://localhost:8080/"
        },
        "id": "A_Bmf_ZcDLad",
        "outputId": "7a888712-8a21-4dbd-8802-87b31081b269"
      },
      "source": [
        "df_ts['ArahAnginTerkencang'].unique()"
      ],
      "execution_count": 17,
      "outputs": [
        {
          "output_type": "execute_result",
          "data": {
            "text/plain": [
              "array([15, 14, 11, 12,  7, 10,  9,  0, 13,  8,  5,  4,  1,  6,  2,  3])"
            ]
          },
          "metadata": {
            "tags": []
          },
          "execution_count": 17
        }
      ]
    },
    {
      "cell_type": "code",
      "metadata": {
        "colab": {
          "base_uri": "https://localhost:8080/",
          "height": 211
        },
        "id": "_80HBjPaLs02",
        "outputId": "9c48a53b-a5c2-47ed-a6b7-0532dd110b5d"
      },
      "source": [
        "df_tr.head()"
      ],
      "execution_count": 18,
      "outputs": [
        {
          "output_type": "execute_result",
          "data": {
            "text/html": [
              "<div>\n",
              "<style scoped>\n",
              "    .dataframe tbody tr th:only-of-type {\n",
              "        vertical-align: middle;\n",
              "    }\n",
              "\n",
              "    .dataframe tbody tr th {\n",
              "        vertical-align: top;\n",
              "    }\n",
              "\n",
              "    .dataframe thead th {\n",
              "        text-align: right;\n",
              "    }\n",
              "</style>\n",
              "<table border=\"1\" class=\"dataframe\">\n",
              "  <thead>\n",
              "    <tr style=\"text-align: right;\">\n",
              "      <th></th>\n",
              "      <th>Tanggal</th>\n",
              "      <th>KodeLokasi</th>\n",
              "      <th>SuhuMin</th>\n",
              "      <th>SuhuMax</th>\n",
              "      <th>Hujan</th>\n",
              "      <th>Penguapan</th>\n",
              "      <th>SinarMatahari</th>\n",
              "      <th>ArahAnginTerkencang</th>\n",
              "      <th>KecepatanAnginTerkencang</th>\n",
              "      <th>ArahAngin9am</th>\n",
              "      <th>ArahAngin3pm</th>\n",
              "      <th>KecepatanAngin9am</th>\n",
              "      <th>KecepatanAngin3pm</th>\n",
              "      <th>Kelembaban9am</th>\n",
              "      <th>Kelembaban3pm</th>\n",
              "      <th>Tekanan9am</th>\n",
              "      <th>Tekanan3pm</th>\n",
              "      <th>Awan9am</th>\n",
              "      <th>Awan3pm</th>\n",
              "      <th>Suhu9am</th>\n",
              "      <th>Suhu3pm</th>\n",
              "      <th>BersaljuHariIni</th>\n",
              "      <th>BersaljuBesok</th>\n",
              "    </tr>\n",
              "  </thead>\n",
              "  <tbody>\n",
              "    <tr>\n",
              "      <th>0</th>\n",
              "      <td>01/06/2014</td>\n",
              "      <td>33</td>\n",
              "      <td>10.4</td>\n",
              "      <td>15.5</td>\n",
              "      <td>4.8</td>\n",
              "      <td>5.12954</td>\n",
              "      <td>6.485839</td>\n",
              "      <td>15</td>\n",
              "      <td>24.0</td>\n",
              "      <td>3</td>\n",
              "      <td>15</td>\n",
              "      <td>0.0</td>\n",
              "      <td>13.0</td>\n",
              "      <td>78.0</td>\n",
              "      <td>76.0</td>\n",
              "      <td>1020.100000</td>\n",
              "      <td>1018.500000</td>\n",
              "      <td>5.048074</td>\n",
              "      <td>5.186954</td>\n",
              "      <td>13.1</td>\n",
              "      <td>15.0</td>\n",
              "      <td>1.0</td>\n",
              "      <td>0</td>\n",
              "    </tr>\n",
              "    <tr>\n",
              "      <th>2</th>\n",
              "      <td>16/02/2011</td>\n",
              "      <td>40</td>\n",
              "      <td>18.2</td>\n",
              "      <td>32.0</td>\n",
              "      <td>0.0</td>\n",
              "      <td>5.12954</td>\n",
              "      <td>6.485839</td>\n",
              "      <td>2</td>\n",
              "      <td>44.0</td>\n",
              "      <td>9</td>\n",
              "      <td>9</td>\n",
              "      <td>15.0</td>\n",
              "      <td>26.0</td>\n",
              "      <td>62.0</td>\n",
              "      <td>42.0</td>\n",
              "      <td>1016.497719</td>\n",
              "      <td>1014.210534</td>\n",
              "      <td>5.048074</td>\n",
              "      <td>5.186954</td>\n",
              "      <td>23.8</td>\n",
              "      <td>29.6</td>\n",
              "      <td>0.0</td>\n",
              "      <td>0</td>\n",
              "    </tr>\n",
              "    <tr>\n",
              "      <th>3</th>\n",
              "      <td>08/08/2012</td>\n",
              "      <td>29</td>\n",
              "      <td>7.3</td>\n",
              "      <td>24.5</td>\n",
              "      <td>0.0</td>\n",
              "      <td>8.40000</td>\n",
              "      <td>10.400000</td>\n",
              "      <td>11</td>\n",
              "      <td>54.0</td>\n",
              "      <td>3</td>\n",
              "      <td>12</td>\n",
              "      <td>13.0</td>\n",
              "      <td>19.0</td>\n",
              "      <td>25.0</td>\n",
              "      <td>17.0</td>\n",
              "      <td>1019.200000</td>\n",
              "      <td>1016.900000</td>\n",
              "      <td>1.000000</td>\n",
              "      <td>7.000000</td>\n",
              "      <td>15.3</td>\n",
              "      <td>23.2</td>\n",
              "      <td>0.0</td>\n",
              "      <td>0</td>\n",
              "    </tr>\n",
              "    <tr>\n",
              "      <th>4</th>\n",
              "      <td>29/10/2016</td>\n",
              "      <td>46</td>\n",
              "      <td>5.9</td>\n",
              "      <td>20.3</td>\n",
              "      <td>0.0</td>\n",
              "      <td>3.60000</td>\n",
              "      <td>12.600000</td>\n",
              "      <td>3</td>\n",
              "      <td>37.0</td>\n",
              "      <td>6</td>\n",
              "      <td>2</td>\n",
              "      <td>22.0</td>\n",
              "      <td>19.0</td>\n",
              "      <td>55.0</td>\n",
              "      <td>48.0</td>\n",
              "      <td>1019.700000</td>\n",
              "      <td>1014.700000</td>\n",
              "      <td>2.000000</td>\n",
              "      <td>6.000000</td>\n",
              "      <td>12.4</td>\n",
              "      <td>18.1</td>\n",
              "      <td>0.0</td>\n",
              "      <td>0</td>\n",
              "    </tr>\n",
              "    <tr>\n",
              "      <th>5</th>\n",
              "      <td>12/06/2011</td>\n",
              "      <td>3</td>\n",
              "      <td>14.4</td>\n",
              "      <td>21.8</td>\n",
              "      <td>0.0</td>\n",
              "      <td>3.20000</td>\n",
              "      <td>4.400000</td>\n",
              "      <td>12</td>\n",
              "      <td>39.0</td>\n",
              "      <td>12</td>\n",
              "      <td>11</td>\n",
              "      <td>19.0</td>\n",
              "      <td>20.0</td>\n",
              "      <td>63.0</td>\n",
              "      <td>52.0</td>\n",
              "      <td>1016.100000</td>\n",
              "      <td>1012.500000</td>\n",
              "      <td>7.000000</td>\n",
              "      <td>7.000000</td>\n",
              "      <td>16.7</td>\n",
              "      <td>21.1</td>\n",
              "      <td>0.0</td>\n",
              "      <td>0</td>\n",
              "    </tr>\n",
              "  </tbody>\n",
              "</table>\n",
              "</div>"
            ],
            "text/plain": [
              "      Tanggal  KodeLokasi  SuhuMin  ...  Suhu3pm  BersaljuHariIni  BersaljuBesok\n",
              "0  01/06/2014          33     10.4  ...     15.0              1.0              0\n",
              "2  16/02/2011          40     18.2  ...     29.6              0.0              0\n",
              "3  08/08/2012          29      7.3  ...     23.2              0.0              0\n",
              "4  29/10/2016          46      5.9  ...     18.1              0.0              0\n",
              "5  12/06/2011           3     14.4  ...     21.1              0.0              0\n",
              "\n",
              "[5 rows x 23 columns]"
            ]
          },
          "metadata": {
            "tags": []
          },
          "execution_count": 18
        }
      ]
    },
    {
      "cell_type": "code",
      "metadata": {
        "colab": {
          "base_uri": "https://localhost:8080/"
        },
        "id": "yQO21CTAptoU",
        "outputId": "76abe1cc-7e97-41b7-d17c-c86c04fc3e72"
      },
      "source": [
        "df_ts.isna().sum()"
      ],
      "execution_count": 19,
      "outputs": [
        {
          "output_type": "execute_result",
          "data": {
            "text/plain": [
              "Tanggal                       0\n",
              "KodeLokasi                    0\n",
              "SuhuMin                       0\n",
              "SuhuMax                       0\n",
              "Hujan                         0\n",
              "Penguapan                     0\n",
              "SinarMatahari                 0\n",
              "ArahAnginTerkencang           0\n",
              "KecepatanAnginTerkencang      0\n",
              "ArahAngin9am                  0\n",
              "ArahAngin3pm                  0\n",
              "KecepatanAngin9am             0\n",
              "KecepatanAngin3pm             0\n",
              "Kelembaban9am                 0\n",
              "Kelembaban3pm                 0\n",
              "Tekanan9am                    0\n",
              "Tekanan3pm                    0\n",
              "Awan9am                       0\n",
              "Awan3pm                       0\n",
              "Suhu9am                       0\n",
              "Suhu3pm                       0\n",
              "BersaljuHariIni               0\n",
              "BersaljuBesok               419\n",
              "dtype: int64"
            ]
          },
          "metadata": {
            "tags": []
          },
          "execution_count": 19
        }
      ]
    },
    {
      "cell_type": "code",
      "metadata": {
        "colab": {
          "base_uri": "https://localhost:8080/",
          "height": 211
        },
        "id": "3tHyiSj8ci5E",
        "outputId": "241d8d3a-e209-4fe7-e404-9471cde1a1b0"
      },
      "source": [
        "df_tr.head()"
      ],
      "execution_count": 20,
      "outputs": [
        {
          "output_type": "execute_result",
          "data": {
            "text/html": [
              "<div>\n",
              "<style scoped>\n",
              "    .dataframe tbody tr th:only-of-type {\n",
              "        vertical-align: middle;\n",
              "    }\n",
              "\n",
              "    .dataframe tbody tr th {\n",
              "        vertical-align: top;\n",
              "    }\n",
              "\n",
              "    .dataframe thead th {\n",
              "        text-align: right;\n",
              "    }\n",
              "</style>\n",
              "<table border=\"1\" class=\"dataframe\">\n",
              "  <thead>\n",
              "    <tr style=\"text-align: right;\">\n",
              "      <th></th>\n",
              "      <th>Tanggal</th>\n",
              "      <th>KodeLokasi</th>\n",
              "      <th>SuhuMin</th>\n",
              "      <th>SuhuMax</th>\n",
              "      <th>Hujan</th>\n",
              "      <th>Penguapan</th>\n",
              "      <th>SinarMatahari</th>\n",
              "      <th>ArahAnginTerkencang</th>\n",
              "      <th>KecepatanAnginTerkencang</th>\n",
              "      <th>ArahAngin9am</th>\n",
              "      <th>ArahAngin3pm</th>\n",
              "      <th>KecepatanAngin9am</th>\n",
              "      <th>KecepatanAngin3pm</th>\n",
              "      <th>Kelembaban9am</th>\n",
              "      <th>Kelembaban3pm</th>\n",
              "      <th>Tekanan9am</th>\n",
              "      <th>Tekanan3pm</th>\n",
              "      <th>Awan9am</th>\n",
              "      <th>Awan3pm</th>\n",
              "      <th>Suhu9am</th>\n",
              "      <th>Suhu3pm</th>\n",
              "      <th>BersaljuHariIni</th>\n",
              "      <th>BersaljuBesok</th>\n",
              "    </tr>\n",
              "  </thead>\n",
              "  <tbody>\n",
              "    <tr>\n",
              "      <th>0</th>\n",
              "      <td>01/06/2014</td>\n",
              "      <td>33</td>\n",
              "      <td>10.4</td>\n",
              "      <td>15.5</td>\n",
              "      <td>4.8</td>\n",
              "      <td>5.12954</td>\n",
              "      <td>6.485839</td>\n",
              "      <td>15</td>\n",
              "      <td>24.0</td>\n",
              "      <td>3</td>\n",
              "      <td>15</td>\n",
              "      <td>0.0</td>\n",
              "      <td>13.0</td>\n",
              "      <td>78.0</td>\n",
              "      <td>76.0</td>\n",
              "      <td>1020.100000</td>\n",
              "      <td>1018.500000</td>\n",
              "      <td>5.048074</td>\n",
              "      <td>5.186954</td>\n",
              "      <td>13.1</td>\n",
              "      <td>15.0</td>\n",
              "      <td>1.0</td>\n",
              "      <td>0</td>\n",
              "    </tr>\n",
              "    <tr>\n",
              "      <th>2</th>\n",
              "      <td>16/02/2011</td>\n",
              "      <td>40</td>\n",
              "      <td>18.2</td>\n",
              "      <td>32.0</td>\n",
              "      <td>0.0</td>\n",
              "      <td>5.12954</td>\n",
              "      <td>6.485839</td>\n",
              "      <td>2</td>\n",
              "      <td>44.0</td>\n",
              "      <td>9</td>\n",
              "      <td>9</td>\n",
              "      <td>15.0</td>\n",
              "      <td>26.0</td>\n",
              "      <td>62.0</td>\n",
              "      <td>42.0</td>\n",
              "      <td>1016.497719</td>\n",
              "      <td>1014.210534</td>\n",
              "      <td>5.048074</td>\n",
              "      <td>5.186954</td>\n",
              "      <td>23.8</td>\n",
              "      <td>29.6</td>\n",
              "      <td>0.0</td>\n",
              "      <td>0</td>\n",
              "    </tr>\n",
              "    <tr>\n",
              "      <th>3</th>\n",
              "      <td>08/08/2012</td>\n",
              "      <td>29</td>\n",
              "      <td>7.3</td>\n",
              "      <td>24.5</td>\n",
              "      <td>0.0</td>\n",
              "      <td>8.40000</td>\n",
              "      <td>10.400000</td>\n",
              "      <td>11</td>\n",
              "      <td>54.0</td>\n",
              "      <td>3</td>\n",
              "      <td>12</td>\n",
              "      <td>13.0</td>\n",
              "      <td>19.0</td>\n",
              "      <td>25.0</td>\n",
              "      <td>17.0</td>\n",
              "      <td>1019.200000</td>\n",
              "      <td>1016.900000</td>\n",
              "      <td>1.000000</td>\n",
              "      <td>7.000000</td>\n",
              "      <td>15.3</td>\n",
              "      <td>23.2</td>\n",
              "      <td>0.0</td>\n",
              "      <td>0</td>\n",
              "    </tr>\n",
              "    <tr>\n",
              "      <th>4</th>\n",
              "      <td>29/10/2016</td>\n",
              "      <td>46</td>\n",
              "      <td>5.9</td>\n",
              "      <td>20.3</td>\n",
              "      <td>0.0</td>\n",
              "      <td>3.60000</td>\n",
              "      <td>12.600000</td>\n",
              "      <td>3</td>\n",
              "      <td>37.0</td>\n",
              "      <td>6</td>\n",
              "      <td>2</td>\n",
              "      <td>22.0</td>\n",
              "      <td>19.0</td>\n",
              "      <td>55.0</td>\n",
              "      <td>48.0</td>\n",
              "      <td>1019.700000</td>\n",
              "      <td>1014.700000</td>\n",
              "      <td>2.000000</td>\n",
              "      <td>6.000000</td>\n",
              "      <td>12.4</td>\n",
              "      <td>18.1</td>\n",
              "      <td>0.0</td>\n",
              "      <td>0</td>\n",
              "    </tr>\n",
              "    <tr>\n",
              "      <th>5</th>\n",
              "      <td>12/06/2011</td>\n",
              "      <td>3</td>\n",
              "      <td>14.4</td>\n",
              "      <td>21.8</td>\n",
              "      <td>0.0</td>\n",
              "      <td>3.20000</td>\n",
              "      <td>4.400000</td>\n",
              "      <td>12</td>\n",
              "      <td>39.0</td>\n",
              "      <td>12</td>\n",
              "      <td>11</td>\n",
              "      <td>19.0</td>\n",
              "      <td>20.0</td>\n",
              "      <td>63.0</td>\n",
              "      <td>52.0</td>\n",
              "      <td>1016.100000</td>\n",
              "      <td>1012.500000</td>\n",
              "      <td>7.000000</td>\n",
              "      <td>7.000000</td>\n",
              "      <td>16.7</td>\n",
              "      <td>21.1</td>\n",
              "      <td>0.0</td>\n",
              "      <td>0</td>\n",
              "    </tr>\n",
              "  </tbody>\n",
              "</table>\n",
              "</div>"
            ],
            "text/plain": [
              "      Tanggal  KodeLokasi  SuhuMin  ...  Suhu3pm  BersaljuHariIni  BersaljuBesok\n",
              "0  01/06/2014          33     10.4  ...     15.0              1.0              0\n",
              "2  16/02/2011          40     18.2  ...     29.6              0.0              0\n",
              "3  08/08/2012          29      7.3  ...     23.2              0.0              0\n",
              "4  29/10/2016          46      5.9  ...     18.1              0.0              0\n",
              "5  12/06/2011           3     14.4  ...     21.1              0.0              0\n",
              "\n",
              "[5 rows x 23 columns]"
            ]
          },
          "metadata": {
            "tags": []
          },
          "execution_count": 20
        }
      ]
    },
    {
      "cell_type": "code",
      "metadata": {
        "colab": {
          "base_uri": "https://localhost:8080/",
          "height": 211
        },
        "id": "t6Xrg2XGc0nv",
        "outputId": "db1c6cab-dab0-4eeb-9bf4-b280019d84f9"
      },
      "source": [
        "df_ts.head()"
      ],
      "execution_count": 21,
      "outputs": [
        {
          "output_type": "execute_result",
          "data": {
            "text/html": [
              "<div>\n",
              "<style scoped>\n",
              "    .dataframe tbody tr th:only-of-type {\n",
              "        vertical-align: middle;\n",
              "    }\n",
              "\n",
              "    .dataframe tbody tr th {\n",
              "        vertical-align: top;\n",
              "    }\n",
              "\n",
              "    .dataframe thead th {\n",
              "        text-align: right;\n",
              "    }\n",
              "</style>\n",
              "<table border=\"1\" class=\"dataframe\">\n",
              "  <thead>\n",
              "    <tr style=\"text-align: right;\">\n",
              "      <th></th>\n",
              "      <th>Tanggal</th>\n",
              "      <th>KodeLokasi</th>\n",
              "      <th>SuhuMin</th>\n",
              "      <th>SuhuMax</th>\n",
              "      <th>Hujan</th>\n",
              "      <th>Penguapan</th>\n",
              "      <th>SinarMatahari</th>\n",
              "      <th>ArahAnginTerkencang</th>\n",
              "      <th>KecepatanAnginTerkencang</th>\n",
              "      <th>ArahAngin9am</th>\n",
              "      <th>ArahAngin3pm</th>\n",
              "      <th>KecepatanAngin9am</th>\n",
              "      <th>KecepatanAngin3pm</th>\n",
              "      <th>Kelembaban9am</th>\n",
              "      <th>Kelembaban3pm</th>\n",
              "      <th>Tekanan9am</th>\n",
              "      <th>Tekanan3pm</th>\n",
              "      <th>Awan9am</th>\n",
              "      <th>Awan3pm</th>\n",
              "      <th>Suhu9am</th>\n",
              "      <th>Suhu3pm</th>\n",
              "      <th>BersaljuHariIni</th>\n",
              "      <th>BersaljuBesok</th>\n",
              "    </tr>\n",
              "  </thead>\n",
              "  <tbody>\n",
              "    <tr>\n",
              "      <th>0</th>\n",
              "      <td>04/11/2010</td>\n",
              "      <td>32</td>\n",
              "      <td>11.0</td>\n",
              "      <td>27.5</td>\n",
              "      <td>0.0</td>\n",
              "      <td>5.509646</td>\n",
              "      <td>6.400000</td>\n",
              "      <td>15</td>\n",
              "      <td>46.0</td>\n",
              "      <td>13</td>\n",
              "      <td>13</td>\n",
              "      <td>20.0</td>\n",
              "      <td>28.0</td>\n",
              "      <td>39.0</td>\n",
              "      <td>56.0</td>\n",
              "      <td>1013.00000</td>\n",
              "      <td>1012.400000</td>\n",
              "      <td>4.00000</td>\n",
              "      <td>7.000000</td>\n",
              "      <td>25.7</td>\n",
              "      <td>23.6</td>\n",
              "      <td>0.0</td>\n",
              "      <td>0.0</td>\n",
              "    </tr>\n",
              "    <tr>\n",
              "      <th>1</th>\n",
              "      <td>26/03/2015</td>\n",
              "      <td>28</td>\n",
              "      <td>10.0</td>\n",
              "      <td>19.9</td>\n",
              "      <td>0.2</td>\n",
              "      <td>5.509646</td>\n",
              "      <td>7.630135</td>\n",
              "      <td>14</td>\n",
              "      <td>56.0</td>\n",
              "      <td>13</td>\n",
              "      <td>7</td>\n",
              "      <td>24.0</td>\n",
              "      <td>33.0</td>\n",
              "      <td>76.0</td>\n",
              "      <td>32.0</td>\n",
              "      <td>1017.00000</td>\n",
              "      <td>1015.200000</td>\n",
              "      <td>8.00000</td>\n",
              "      <td>1.000000</td>\n",
              "      <td>10.7</td>\n",
              "      <td>18.9</td>\n",
              "      <td>0.0</td>\n",
              "      <td>1.0</td>\n",
              "    </tr>\n",
              "    <tr>\n",
              "      <th>2</th>\n",
              "      <td>22/03/2016</td>\n",
              "      <td>9</td>\n",
              "      <td>9.2</td>\n",
              "      <td>27.2</td>\n",
              "      <td>0.0</td>\n",
              "      <td>5.200000</td>\n",
              "      <td>10.400000</td>\n",
              "      <td>11</td>\n",
              "      <td>33.0</td>\n",
              "      <td>4</td>\n",
              "      <td>3</td>\n",
              "      <td>13.0</td>\n",
              "      <td>19.0</td>\n",
              "      <td>89.0</td>\n",
              "      <td>27.0</td>\n",
              "      <td>1018.60000</td>\n",
              "      <td>1015.700000</td>\n",
              "      <td>0.00000</td>\n",
              "      <td>1.000000</td>\n",
              "      <td>13.9</td>\n",
              "      <td>26.3</td>\n",
              "      <td>0.0</td>\n",
              "      <td>0.0</td>\n",
              "    </tr>\n",
              "    <tr>\n",
              "      <th>3</th>\n",
              "      <td>09/12/2011</td>\n",
              "      <td>24</td>\n",
              "      <td>17.7</td>\n",
              "      <td>27.0</td>\n",
              "      <td>0.0</td>\n",
              "      <td>4.600000</td>\n",
              "      <td>6.700000</td>\n",
              "      <td>12</td>\n",
              "      <td>35.0</td>\n",
              "      <td>0</td>\n",
              "      <td>10</td>\n",
              "      <td>20.0</td>\n",
              "      <td>15.0</td>\n",
              "      <td>55.0</td>\n",
              "      <td>41.0</td>\n",
              "      <td>1010.20000</td>\n",
              "      <td>1008.600000</td>\n",
              "      <td>7.00000</td>\n",
              "      <td>6.000000</td>\n",
              "      <td>22.3</td>\n",
              "      <td>26.4</td>\n",
              "      <td>0.0</td>\n",
              "      <td>0.0</td>\n",
              "    </tr>\n",
              "    <tr>\n",
              "      <th>4</th>\n",
              "      <td>20/05/2017</td>\n",
              "      <td>5</td>\n",
              "      <td>2.3</td>\n",
              "      <td>7.9</td>\n",
              "      <td>88.0</td>\n",
              "      <td>5.509646</td>\n",
              "      <td>7.630135</td>\n",
              "      <td>7</td>\n",
              "      <td>46.0</td>\n",
              "      <td>13</td>\n",
              "      <td>14</td>\n",
              "      <td>13.0</td>\n",
              "      <td>9.0</td>\n",
              "      <td>98.0</td>\n",
              "      <td>95.0</td>\n",
              "      <td>1017.56166</td>\n",
              "      <td>1015.181064</td>\n",
              "      <td>4.44982</td>\n",
              "      <td>4.498322</td>\n",
              "      <td>4.4</td>\n",
              "      <td>6.0</td>\n",
              "      <td>1.0</td>\n",
              "      <td>0.0</td>\n",
              "    </tr>\n",
              "  </tbody>\n",
              "</table>\n",
              "</div>"
            ],
            "text/plain": [
              "      Tanggal  KodeLokasi  SuhuMin  ...  Suhu3pm  BersaljuHariIni  BersaljuBesok\n",
              "0  04/11/2010          32     11.0  ...     23.6              0.0            0.0\n",
              "1  26/03/2015          28     10.0  ...     18.9              0.0            1.0\n",
              "2  22/03/2016           9      9.2  ...     26.3              0.0            0.0\n",
              "3  09/12/2011          24     17.7  ...     26.4              0.0            0.0\n",
              "4  20/05/2017           5      2.3  ...      6.0              1.0            0.0\n",
              "\n",
              "[5 rows x 23 columns]"
            ]
          },
          "metadata": {
            "tags": []
          },
          "execution_count": 21
        }
      ]
    },
    {
      "cell_type": "code",
      "metadata": {
        "id": "uYXg006HV2AI"
      },
      "source": [
        "# Drop datetime\n",
        "df_tr_new = df_tr.drop(['Tanggal'], axis = 1)\n",
        "df_ts_new = df_ts.drop(['Tanggal'], axis = 1)\n",
        "\n",
        "# NORMALIZATION DATA TEST & TRAIN (MIN MAX NORMALIZATION)s\n",
        "df_tr_new = ( (df_tr_new - df_tr_new.min()) / (df_tr_new.max() - df_tr_new.min()) )\n",
        "df_ts_new = ( (df_ts_new - df_ts_new.min()) / (df_ts_new.max() - df_ts_new.min()) )\n",
        "\n",
        "# Drop row yang mengandung Missing Values Pada Data Test kolom 'BersaljuBesok'\n",
        "df_ts_new = df_ts_new.dropna()"
      ],
      "execution_count": 22,
      "outputs": []
    },
    {
      "cell_type": "markdown",
      "metadata": {
        "id": "1MNZl1VX_OKp"
      },
      "source": [
        "## MERAPIHKAN DATA"
      ]
    },
    {
      "cell_type": "code",
      "metadata": {
        "id": "HRZaH3NX-jpU",
        "colab": {
          "base_uri": "https://localhost:8080/",
          "height": 211
        },
        "outputId": "a713ca63-6bd7-4b16-ab14-a7bb6459124a"
      },
      "source": [
        "df_ts_new.head()"
      ],
      "execution_count": 23,
      "outputs": [
        {
          "output_type": "execute_result",
          "data": {
            "text/html": [
              "<div>\n",
              "<style scoped>\n",
              "    .dataframe tbody tr th:only-of-type {\n",
              "        vertical-align: middle;\n",
              "    }\n",
              "\n",
              "    .dataframe tbody tr th {\n",
              "        vertical-align: top;\n",
              "    }\n",
              "\n",
              "    .dataframe thead th {\n",
              "        text-align: right;\n",
              "    }\n",
              "</style>\n",
              "<table border=\"1\" class=\"dataframe\">\n",
              "  <thead>\n",
              "    <tr style=\"text-align: right;\">\n",
              "      <th></th>\n",
              "      <th>KodeLokasi</th>\n",
              "      <th>SuhuMin</th>\n",
              "      <th>SuhuMax</th>\n",
              "      <th>Hujan</th>\n",
              "      <th>Penguapan</th>\n",
              "      <th>SinarMatahari</th>\n",
              "      <th>ArahAnginTerkencang</th>\n",
              "      <th>KecepatanAnginTerkencang</th>\n",
              "      <th>ArahAngin9am</th>\n",
              "      <th>ArahAngin3pm</th>\n",
              "      <th>KecepatanAngin9am</th>\n",
              "      <th>KecepatanAngin3pm</th>\n",
              "      <th>Kelembaban9am</th>\n",
              "      <th>Kelembaban3pm</th>\n",
              "      <th>Tekanan9am</th>\n",
              "      <th>Tekanan3pm</th>\n",
              "      <th>Awan9am</th>\n",
              "      <th>Awan3pm</th>\n",
              "      <th>Suhu9am</th>\n",
              "      <th>Suhu3pm</th>\n",
              "      <th>BersaljuHariIni</th>\n",
              "      <th>BersaljuBesok</th>\n",
              "    </tr>\n",
              "  </thead>\n",
              "  <tbody>\n",
              "    <tr>\n",
              "      <th>0</th>\n",
              "      <td>0.666667</td>\n",
              "      <td>0.476923</td>\n",
              "      <td>0.592885</td>\n",
              "      <td>0.000000</td>\n",
              "      <td>0.080082</td>\n",
              "      <td>0.441379</td>\n",
              "      <td>1.000000</td>\n",
              "      <td>0.344828</td>\n",
              "      <td>0.866667</td>\n",
              "      <td>0.866667</td>\n",
              "      <td>0.240964</td>\n",
              "      <td>0.337349</td>\n",
              "      <td>0.377551</td>\n",
              "      <td>0.555556</td>\n",
              "      <td>0.526587</td>\n",
              "      <td>0.517625</td>\n",
              "      <td>0.500000</td>\n",
              "      <td>0.87500</td>\n",
              "      <td>0.720280</td>\n",
              "      <td>0.548193</td>\n",
              "      <td>0.0</td>\n",
              "      <td>0.0</td>\n",
              "    </tr>\n",
              "    <tr>\n",
              "      <th>1</th>\n",
              "      <td>0.583333</td>\n",
              "      <td>0.451282</td>\n",
              "      <td>0.442688</td>\n",
              "      <td>0.000809</td>\n",
              "      <td>0.080082</td>\n",
              "      <td>0.526216</td>\n",
              "      <td>0.933333</td>\n",
              "      <td>0.431034</td>\n",
              "      <td>0.866667</td>\n",
              "      <td>0.466667</td>\n",
              "      <td>0.289157</td>\n",
              "      <td>0.397590</td>\n",
              "      <td>0.755102</td>\n",
              "      <td>0.313131</td>\n",
              "      <td>0.595197</td>\n",
              "      <td>0.569573</td>\n",
              "      <td>1.000000</td>\n",
              "      <td>0.12500</td>\n",
              "      <td>0.370629</td>\n",
              "      <td>0.453815</td>\n",
              "      <td>0.0</td>\n",
              "      <td>1.0</td>\n",
              "    </tr>\n",
              "    <tr>\n",
              "      <th>2</th>\n",
              "      <td>0.187500</td>\n",
              "      <td>0.430769</td>\n",
              "      <td>0.586957</td>\n",
              "      <td>0.000000</td>\n",
              "      <td>0.075581</td>\n",
              "      <td>0.717241</td>\n",
              "      <td>0.733333</td>\n",
              "      <td>0.232759</td>\n",
              "      <td>0.266667</td>\n",
              "      <td>0.200000</td>\n",
              "      <td>0.156627</td>\n",
              "      <td>0.228916</td>\n",
              "      <td>0.887755</td>\n",
              "      <td>0.262626</td>\n",
              "      <td>0.622642</td>\n",
              "      <td>0.578850</td>\n",
              "      <td>0.000000</td>\n",
              "      <td>0.12500</td>\n",
              "      <td>0.445221</td>\n",
              "      <td>0.602410</td>\n",
              "      <td>0.0</td>\n",
              "      <td>0.0</td>\n",
              "    </tr>\n",
              "    <tr>\n",
              "      <th>3</th>\n",
              "      <td>0.500000</td>\n",
              "      <td>0.648718</td>\n",
              "      <td>0.583004</td>\n",
              "      <td>0.000000</td>\n",
              "      <td>0.066860</td>\n",
              "      <td>0.462069</td>\n",
              "      <td>0.800000</td>\n",
              "      <td>0.250000</td>\n",
              "      <td>0.000000</td>\n",
              "      <td>0.666667</td>\n",
              "      <td>0.240964</td>\n",
              "      <td>0.180723</td>\n",
              "      <td>0.540816</td>\n",
              "      <td>0.404040</td>\n",
              "      <td>0.478559</td>\n",
              "      <td>0.447124</td>\n",
              "      <td>0.875000</td>\n",
              "      <td>0.75000</td>\n",
              "      <td>0.641026</td>\n",
              "      <td>0.604418</td>\n",
              "      <td>0.0</td>\n",
              "      <td>0.0</td>\n",
              "    </tr>\n",
              "    <tr>\n",
              "      <th>4</th>\n",
              "      <td>0.104167</td>\n",
              "      <td>0.253846</td>\n",
              "      <td>0.205534</td>\n",
              "      <td>0.355987</td>\n",
              "      <td>0.080082</td>\n",
              "      <td>0.526216</td>\n",
              "      <td>0.466667</td>\n",
              "      <td>0.344828</td>\n",
              "      <td>0.866667</td>\n",
              "      <td>0.933333</td>\n",
              "      <td>0.156627</td>\n",
              "      <td>0.108434</td>\n",
              "      <td>0.979592</td>\n",
              "      <td>0.949495</td>\n",
              "      <td>0.604831</td>\n",
              "      <td>0.569222</td>\n",
              "      <td>0.556228</td>\n",
              "      <td>0.56229</td>\n",
              "      <td>0.223776</td>\n",
              "      <td>0.194779</td>\n",
              "      <td>1.0</td>\n",
              "      <td>0.0</td>\n",
              "    </tr>\n",
              "  </tbody>\n",
              "</table>\n",
              "</div>"
            ],
            "text/plain": [
              "   KodeLokasi   SuhuMin   SuhuMax  ...   Suhu3pm  BersaljuHariIni  BersaljuBesok\n",
              "0    0.666667  0.476923  0.592885  ...  0.548193              0.0            0.0\n",
              "1    0.583333  0.451282  0.442688  ...  0.453815              0.0            1.0\n",
              "2    0.187500  0.430769  0.586957  ...  0.602410              0.0            0.0\n",
              "3    0.500000  0.648718  0.583004  ...  0.604418              0.0            0.0\n",
              "4    0.104167  0.253846  0.205534  ...  0.194779              1.0            0.0\n",
              "\n",
              "[5 rows x 22 columns]"
            ]
          },
          "metadata": {
            "tags": []
          },
          "execution_count": 23
        }
      ]
    },
    {
      "cell_type": "code",
      "metadata": {
        "colab": {
          "base_uri": "https://localhost:8080/"
        },
        "id": "aoyw-G1YaJXS",
        "outputId": "1caadf08-b055-4b9c-dec1-c62e570b5a94"
      },
      "source": [
        "df_ts_new.isna().sum()"
      ],
      "execution_count": 24,
      "outputs": [
        {
          "output_type": "execute_result",
          "data": {
            "text/plain": [
              "KodeLokasi                  0\n",
              "SuhuMin                     0\n",
              "SuhuMax                     0\n",
              "Hujan                       0\n",
              "Penguapan                   0\n",
              "SinarMatahari               0\n",
              "ArahAnginTerkencang         0\n",
              "KecepatanAnginTerkencang    0\n",
              "ArahAngin9am                0\n",
              "ArahAngin3pm                0\n",
              "KecepatanAngin9am           0\n",
              "KecepatanAngin3pm           0\n",
              "Kelembaban9am               0\n",
              "Kelembaban3pm               0\n",
              "Tekanan9am                  0\n",
              "Tekanan3pm                  0\n",
              "Awan9am                     0\n",
              "Awan3pm                     0\n",
              "Suhu9am                     0\n",
              "Suhu3pm                     0\n",
              "BersaljuHariIni             0\n",
              "BersaljuBesok               0\n",
              "dtype: int64"
            ]
          },
          "metadata": {
            "tags": []
          },
          "execution_count": 24
        }
      ]
    },
    {
      "cell_type": "markdown",
      "metadata": {
        "id": "Ad81nPjQCBnS"
      },
      "source": [
        "## MACHINE LEARNING (PEMBUATAN MODEL)"
      ]
    },
    {
      "cell_type": "markdown",
      "metadata": {
        "id": "orPN9aE9bfEy"
      },
      "source": [
        "Import Library"
      ]
    },
    {
      "cell_type": "code",
      "metadata": {
        "id": "Xzvc2B5Rbhd_"
      },
      "source": [
        "from sklearn.linear_model import LogisticRegression\n",
        "from sklearn import metrics\n",
        "from sklearn.metrics import confusion_matrix\n",
        "from sklearn.metrics import classification_report\n",
        "\n",
        "from sklearn.naive_bayes import GaussianNB\n",
        "\n",
        "from sklearn import svm"
      ],
      "execution_count": 25,
      "outputs": []
    },
    {
      "cell_type": "markdown",
      "metadata": {
        "id": "seyWEJEzGSTR"
      },
      "source": [
        "Pemisahan Parameter dan Label terhadap Data Train dan Data Test"
      ]
    },
    {
      "cell_type": "code",
      "metadata": {
        "id": "u1BbN2SiCIY2"
      },
      "source": [
        "x_train = df_tr_new.drop(['BersaljuBesok'], axis=1)\n",
        "y_train = df_tr_new['BersaljuBesok']\n",
        "\n",
        "x_test = df_ts_new.drop(['BersaljuBesok'], axis=1)\n",
        "y_test = df_ts_new['BersaljuBesok']"
      ],
      "execution_count": 26,
      "outputs": []
    },
    {
      "cell_type": "markdown",
      "metadata": {
        "id": "5O0sVx48Khd9"
      },
      "source": [
        "## Logistic Regression"
      ]
    },
    {
      "cell_type": "code",
      "metadata": {
        "id": "CY0ZfMlyMUgf"
      },
      "source": [
        "# Bentuk Model\n",
        "modelLR = LogisticRegression()\n",
        "modelLR.fit(x_train, y_train)\n",
        "# Predict\n",
        "y_predLR = modelLR.predict(x_test)"
      ],
      "execution_count": 27,
      "outputs": []
    },
    {
      "cell_type": "code",
      "metadata": {
        "colab": {
          "base_uri": "https://localhost:8080/"
        },
        "id": "Cyt1x74GMYe_",
        "outputId": "18f6570f-3040-4e29-c032-c77ad824c61d"
      },
      "source": [
        "print(classification_report(y_test, y_predLR))"
      ],
      "execution_count": 28,
      "outputs": [
        {
          "output_type": "stream",
          "text": [
            "              precision    recall  f1-score   support\n",
            "\n",
            "         0.0       0.94      0.72      0.82     13824\n",
            "         1.0       0.46      0.84      0.59      3939\n",
            "\n",
            "    accuracy                           0.75     17763\n",
            "   macro avg       0.70      0.78      0.71     17763\n",
            "weighted avg       0.83      0.75      0.77     17763\n",
            "\n"
          ],
          "name": "stdout"
        }
      ]
    },
    {
      "cell_type": "markdown",
      "metadata": {
        "id": "nrFdFEROOPiT"
      },
      "source": [
        "## Naive Bayes\n",
        "\n",
        "sumber : https://www.datacamp.com/community/tutorials/naive-bayes-scikit-learn?utm_source=adwords_ppc&utm_campaignid=1455363063&utm_adgroupid=65083631748&utm_device=c&utm_keyword=&utm_matchtype=b&utm_network=g&utm_adpostion=&utm_creative=332602034364&utm_targetid=aud-299261629614:dsa-429603003980&utm_loc_interest_ms=&utm_loc_physical_ms=1007716&gclid=Cj0KCQjwwLKFBhDPARIsAPzPi-I0nEHdUY0WNpBrBKEA10PYyI3S20sSDFKAkx0cmJtenwAIdC9zPAgaAkTAEALw_wcB"
      ]
    },
    {
      "cell_type": "code",
      "metadata": {
        "id": "YS49zaJOPj_T"
      },
      "source": [
        "#Bentuk Model\n",
        "modelNB = GaussianNB()\n",
        "modelNB.fit(x_train, y_train)\n",
        "#Predict\n",
        "y_predNB = modelNB.predict(x_test)"
      ],
      "execution_count": 29,
      "outputs": []
    },
    {
      "cell_type": "code",
      "metadata": {
        "colab": {
          "base_uri": "https://localhost:8080/"
        },
        "id": "C5ss05FKPnQA",
        "outputId": "d1f92d72-f2f2-46a0-dbc2-3cb79940500c"
      },
      "source": [
        "print(classification_report(y_test, y_predNB))"
      ],
      "execution_count": 30,
      "outputs": [
        {
          "output_type": "stream",
          "text": [
            "              precision    recall  f1-score   support\n",
            "\n",
            "         0.0       0.89      0.81      0.85     13824\n",
            "         1.0       0.49      0.66      0.56      3939\n",
            "\n",
            "    accuracy                           0.77     17763\n",
            "   macro avg       0.69      0.73      0.71     17763\n",
            "weighted avg       0.80      0.77      0.78     17763\n",
            "\n"
          ],
          "name": "stdout"
        }
      ]
    },
    {
      "cell_type": "markdown",
      "metadata": {
        "id": "WyKJZFoZbVaN"
      },
      "source": [
        "## SVM (Support Vector Machine)"
      ]
    },
    {
      "cell_type": "code",
      "metadata": {
        "id": "6pXOQqrhbWg-"
      },
      "source": [
        "#Bentuk Model\n",
        "modelSVM = svm.SVC(kernel='linear')\n",
        "modelSVM.fit(x_train, y_train)\n",
        "#Predict\n",
        "y_predSVM = modelSVM.predict(x_test)"
      ],
      "execution_count": 31,
      "outputs": []
    },
    {
      "cell_type": "code",
      "metadata": {
        "colab": {
          "base_uri": "https://localhost:8080/"
        },
        "id": "Zc8lPCEUen_M",
        "outputId": "79ac463d-5f94-4756-b707-67e0f5e6719b"
      },
      "source": [
        "print(classification_report(y_test, y_predSVM))"
      ],
      "execution_count": 32,
      "outputs": [
        {
          "output_type": "stream",
          "text": [
            "              precision    recall  f1-score   support\n",
            "\n",
            "         0.0       0.94      0.71      0.81     13824\n",
            "         1.0       0.45      0.85      0.59      3939\n",
            "\n",
            "    accuracy                           0.74     17763\n",
            "   macro avg       0.70      0.78      0.70     17763\n",
            "weighted avg       0.83      0.74      0.76     17763\n",
            "\n"
          ],
          "name": "stdout"
        }
      ]
    }
  ]
}